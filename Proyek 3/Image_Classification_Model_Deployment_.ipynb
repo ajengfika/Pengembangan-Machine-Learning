{
  "nbformat": 4,
  "nbformat_minor": 0,
  "metadata": {
    "colab": {
      "name": "Image Classification Model Deployment .ipynb",
      "provenance": [],
      "collapsed_sections": []
    },
    "kernelspec": {
      "name": "python3",
      "display_name": "Python 3"
    },
    "language_info": {
      "name": "python"
    },
    "accelerator": "GPU"
  },
  "cells": [
    {
      "cell_type": "code",
      "metadata": {
        "id": "7p0se8iYtTHp"
      },
      "source": [
        "import os\n",
        "os.environ['KAGGLE_USERNAME'] = \"xxxxxxxxxxx\"\n",
        "os.environ['KAGGLE_KEY'] = \"xxxxxxxxxxx\""
      ],
      "execution_count": null,
      "outputs": []
    },
    {
      "cell_type": "code",
      "metadata": {
        "colab": {
          "base_uri": "https://localhost:8080/"
        },
        "id": "F0juPc_hp1BM",
        "outputId": "b8f023b0-018f-4561-b27c-3b7f580f6a05"
      },
      "source": [
        "!kaggle datasets download -d alexattia/the-simpsons-characters-dataset"
      ],
      "execution_count": null,
      "outputs": [
        {
          "output_type": "stream",
          "text": [
            "the-simpsons-characters-dataset.zip: Skipping, found more recently modified local copy (use --force to force download)\n"
          ],
          "name": "stdout"
        }
      ]
    },
    {
      "cell_type": "code",
      "metadata": {
        "colab": {
          "base_uri": "https://localhost:8080/"
        },
        "id": "99UjWMkUuhj5",
        "outputId": "a924a153-1d39-47e1-faae-64893129b30f"
      },
      "source": [
        "!mkdir thesimp\n",
        "!unzip -qq the-simpsons-characters-dataset.zip -d thesimp\n",
        "!ls thesimp"
      ],
      "execution_count": null,
      "outputs": [
        {
          "output_type": "stream",
          "text": [
            "annotation.txt\t\t     kaggle_simpson_testset  simpsons_dataset\n",
            "characters_illustration.png  number_pic_char.csv     weights.best.hdf5\n"
          ],
          "name": "stdout"
        }
      ]
    },
    {
      "cell_type": "code",
      "metadata": {
        "colab": {
          "base_uri": "https://localhost:8080/"
        },
        "id": "_5jXOUsqwjHp",
        "outputId": "2cbbe817-55b8-4a37-d78c-3ee559e38eb6"
      },
      "source": [
        "!ls thesimp/simpsons_dataset/simpsons_dataset/"
      ],
      "execution_count": null,
      "outputs": [
        {
          "output_type": "stream",
          "text": [
            "abraham_grampa_simpson\t  groundskeeper_willie\tned_flanders\n",
            "agnes_skinner\t\t  homer_simpson\t\tnelson_muntz\n",
            "apu_nahasapeemapetilon\t  kent_brockman\t\totto_mann\n",
            "barney_gumble\t\t  krusty_the_clown\tpatty_bouvier\n",
            "bart_simpson\t\t  lenny_leonard\t\tprincipal_skinner\n",
            "carl_carlson\t\t  lionel_hutz\t\tprofessor_john_frink\n",
            "charles_montgomery_burns  lisa_simpson\t\trainier_wolfcastle\n",
            "chief_wiggum\t\t  maggie_simpson\tralph_wiggum\n",
            "cletus_spuckler\t\t  marge_simpson\t\tselma_bouvier\n",
            "comic_book_guy\t\t  martin_prince\t\tsideshow_bob\n",
            "disco_stu\t\t  mayor_quimby\t\tsideshow_mel\n",
            "edna_krabappel\t\t  milhouse_van_houten\tsnake_jailbird\n",
            "fat_tony\t\t  miss_hoover\t\ttroy_mcclure\n",
            "gil\t\t\t  moe_szyslak\t\twaylon_smithers\n"
          ],
          "name": "stdout"
        }
      ]
    },
    {
      "cell_type": "code",
      "metadata": {
        "colab": {
          "base_uri": "https://localhost:8080/"
        },
        "id": "7FFZ5UDgxDby",
        "outputId": "25e3b431-bda8-4a37-af03-d2b577a4bad2"
      },
      "source": [
        "import os\n",
        "\n",
        "thesimp = os.path.join('/content/thesimp/simpsons_dataset/simpsons_dataset')\n",
        "\n",
        "print(os.listdir(thesimp))"
      ],
      "execution_count": null,
      "outputs": [
        {
          "output_type": "stream",
          "text": [
            "['lisa_simpson', 'cletus_spuckler', 'kent_brockman', 'ned_flanders', 'ralph_wiggum', 'maggie_simpson', 'bart_simpson', 'gil', 'edna_krabappel', 'carl_carlson', 'fat_tony', 'comic_book_guy', 'martin_prince', 'selma_bouvier', 'sideshow_bob', 'homer_simpson', 'lenny_leonard', 'moe_szyslak', 'groundskeeper_willie', 'krusty_the_clown', 'marge_simpson', 'milhouse_van_houten', 'rainier_wolfcastle', 'lionel_hutz', 'patty_bouvier', 'waylon_smithers', 'abraham_grampa_simpson', 'apu_nahasapeemapetilon', 'nelson_muntz', 'disco_stu', 'barney_gumble', 'troy_mcclure', 'otto_mann', 'principal_skinner', 'agnes_skinner', 'chief_wiggum', 'professor_john_frink', 'miss_hoover', 'mayor_quimby', 'snake_jailbird', 'charles_montgomery_burns', 'sideshow_mel']\n"
          ],
          "name": "stdout"
        }
      ]
    },
    {
      "cell_type": "code",
      "metadata": {
        "id": "l6TSeQVZXpbq"
      },
      "source": [
        "import shutil\n",
        "\n",
        "ignore_simp = ['sideshow_mel', 'snake_jailbird', 'mayor_quimby', 'miss_hoover', 'professor_john_frink', 'otto_mann', 'troy_mcclure', 'nelson_muntz', 'apu_nahasapeemapetilon', 'waylon_smithers', 'rainier_wolfcastle', 'sideshow_bob', 'selma_bouvier', 'martin_prince', 'maggie_simpson', 'ralph_wiggum', 'agnes_skinner', 'barney_gumble', 'carl_carlson', 'cletus_spuckler', 'comic_book_guy', 'disco_stu', 'edna_krabappel', 'fat_tony', 'gil', 'groundskeeper_willie', 'kent_brockman', 'lenny_leonard','lionel_hutz' ]\n",
        "\n",
        "for x in ignore_simp:\n",
        "  path = os.path.join(thesimp, x)\n",
        "  shutil.rmtree(path)"
      ],
      "execution_count": null,
      "outputs": []
    },
    {
      "cell_type": "code",
      "metadata": {
        "colab": {
          "base_uri": "https://localhost:8080/"
        },
        "id": "bug5_WCC2IuG",
        "outputId": "20253389-d69a-44a6-fac7-3239f6e8fb4f"
      },
      "source": [
        "list_thesimp = os.listdir(thesimp)\n",
        "print(list_thesimp)"
      ],
      "execution_count": null,
      "outputs": [
        {
          "output_type": "stream",
          "text": [
            "['lisa_simpson', 'ned_flanders', 'bart_simpson', 'homer_simpson', 'moe_szyslak', 'krusty_the_clown', 'marge_simpson', 'milhouse_van_houten', 'patty_bouvier', 'abraham_grampa_simpson', 'principal_skinner', 'chief_wiggum', 'charles_montgomery_burns']\n"
          ],
          "name": "stdout"
        }
      ]
    },
    {
      "cell_type": "code",
      "metadata": {
        "id": "ZXNDLAl22NKU"
      },
      "source": [
        "import tensorflow as tf\n",
        "from tensorflow.keras.preprocessing.image import ImageDataGenerator"
      ],
      "execution_count": null,
      "outputs": []
    },
    {
      "cell_type": "code",
      "metadata": {
        "id": "CxJEIC-R2YXI"
      },
      "source": [
        "train_datagen = ImageDataGenerator(\n",
        "    rotation_range=40,\n",
        "    width_shift_range=0.2,\n",
        "    height_shift_range=0.2,\n",
        "    rescale=1/255,\n",
        "    shear_range=0.2,\n",
        "    zoom_range=0.2,\n",
        "    horizontal_flip=True,\n",
        "    fill_mode='nearest',\n",
        "    validation_split=0.2   \n",
        ")"
      ],
      "execution_count": null,
      "outputs": []
    },
    {
      "cell_type": "code",
      "metadata": {
        "colab": {
          "base_uri": "https://localhost:8080/"
        },
        "id": "4g3AcbOy4nqa",
        "outputId": "bd9b05c0-0c53-449a-f399-9318eedf5842"
      },
      "source": [
        "data_train = train_datagen.flow_from_directory(\n",
        "    thesimp,\n",
        "    target_size=(150, 150),\n",
        "    batch_size=256,\n",
        "    class_mode='categorical',\n",
        "    subset='training')\n",
        "\n",
        "data_val = train_datagen.flow_from_directory(\n",
        "    thesimp, \n",
        "    target_size=(150, 150),\n",
        "    batch_size=256,\n",
        "    class_mode='categorical',\n",
        "    subset='validation')"
      ],
      "execution_count": null,
      "outputs": [
        {
          "output_type": "stream",
          "text": [
            "Found 12632 images belonging to 13 classes.\n",
            "Found 3150 images belonging to 13 classes.\n"
          ],
          "name": "stdout"
        }
      ]
    },
    {
      "cell_type": "code",
      "metadata": {
        "id": "HXhnp0N15DWq"
      },
      "source": [
        "import tensorflow as tf\n",
        "\n",
        "model = tf.keras.models.Sequential([\n",
        "    tf.keras.layers.Conv2D(64, (3,3), activation='relu', input_shape=(150, 150, 3)),\n",
        "    tf.keras.layers.MaxPooling2D(2, 2),\n",
        "    tf.keras.layers.Conv2D(64, (3,3), activation='relu'),\n",
        "    tf.keras.layers.MaxPooling2D(2,2),\n",
        "    tf.keras.layers.Conv2D(128, (3,3), activation='relu'),\n",
        "    tf.keras.layers.MaxPooling2D(2,2),\n",
        "    tf.keras.layers.Conv2D(128, (3,3), activation='relu'),\n",
        "    tf.keras.layers.MaxPooling2D(2,2),\n",
        "    tf.keras.layers.Flatten(),\n",
        "    tf.keras.layers.Dropout(0.2), \n",
        "    tf.keras.layers.Dense(512, activation='relu'),\n",
        "    tf.keras.layers.Dense(13, activation='softmax')\n",
        "])"
      ],
      "execution_count": null,
      "outputs": []
    },
    {
      "cell_type": "code",
      "metadata": {
        "id": "qhBpXoBdcOB5"
      },
      "source": [
        "model.compile(optimizer='adam',\n",
        "              loss='categorical_crossentropy',\n",
        "              metrics = ['accuracy'])"
      ],
      "execution_count": null,
      "outputs": []
    },
    {
      "cell_type": "code",
      "metadata": {
        "id": "3HNglbzk5TRZ"
      },
      "source": [
        "accuracy_threshold = 98e-2\n",
        "class my_callbacks(tf.keras.callbacks.Callback):\n",
        "    def on_epoch_end(self, epoch, logs = None):\n",
        "        if logs.get('accuracy') >= accuracy_threshold:\n",
        "            print('\\nUntuk Epoch', epoch, '\\nAkurasi mencapai = %2.2f%%' %(logs['accuracy']*100), 'training telah berhenti')\n",
        "            self.model.stop_training = True"
      ],
      "execution_count": null,
      "outputs": []
    },
    {
      "cell_type": "code",
      "metadata": {
        "colab": {
          "base_uri": "https://localhost:8080/"
        },
        "id": "9_ke4hA05XlJ",
        "outputId": "68c5156a-00e8-4e80-8ad9-54c6662a3fa2"
      },
      "source": [
        "history = model.fit(\n",
        "    data_train,\n",
        "    steps_per_epoch = 40,\n",
        "    epochs = 50,\n",
        "    validation_data = data_val,\n",
        "    validation_steps = 5,\n",
        "    verbose = 2,\n",
        "    callbacks = [my_callbacks()]\n",
        ")"
      ],
      "execution_count": null,
      "outputs": [
        {
          "output_type": "stream",
          "text": [
            "Epoch 1/50\n",
            "40/40 - 115s - loss: 2.3604 - accuracy: 0.1749 - val_loss: 2.2525 - val_accuracy: 0.2273\n",
            "Epoch 2/50\n",
            "40/40 - 79s - loss: 1.9979 - accuracy: 0.3361 - val_loss: 1.9009 - val_accuracy: 0.3789\n",
            "Epoch 3/50\n",
            "40/40 - 78s - loss: 1.7041 - accuracy: 0.4490 - val_loss: 1.7086 - val_accuracy: 0.4414\n",
            "Epoch 4/50\n",
            "40/40 - 80s - loss: 1.4840 - accuracy: 0.5222 - val_loss: 1.5970 - val_accuracy: 0.4789\n",
            "Epoch 5/50\n",
            "40/40 - 79s - loss: 1.2843 - accuracy: 0.5870 - val_loss: 1.4391 - val_accuracy: 0.5625\n",
            "Epoch 6/50\n",
            "40/40 - 79s - loss: 1.1440 - accuracy: 0.6232 - val_loss: 1.2830 - val_accuracy: 0.6062\n",
            "Epoch 7/50\n",
            "40/40 - 79s - loss: 1.0106 - accuracy: 0.6738 - val_loss: 1.0981 - val_accuracy: 0.6602\n",
            "Epoch 8/50\n",
            "40/40 - 82s - loss: 0.9176 - accuracy: 0.7093 - val_loss: 1.0907 - val_accuracy: 0.6648\n",
            "Epoch 9/50\n",
            "40/40 - 81s - loss: 0.8481 - accuracy: 0.7264 - val_loss: 0.9587 - val_accuracy: 0.7070\n",
            "Epoch 10/50\n",
            "40/40 - 80s - loss: 0.7764 - accuracy: 0.7536 - val_loss: 1.0022 - val_accuracy: 0.6891\n",
            "Epoch 11/50\n",
            "40/40 - 79s - loss: 0.7196 - accuracy: 0.7672 - val_loss: 0.9013 - val_accuracy: 0.7203\n",
            "Epoch 12/50\n",
            "40/40 - 81s - loss: 0.6631 - accuracy: 0.7835 - val_loss: 0.8824 - val_accuracy: 0.7242\n",
            "Epoch 13/50\n",
            "40/40 - 79s - loss: 0.5863 - accuracy: 0.8077 - val_loss: 0.9106 - val_accuracy: 0.7359\n",
            "Epoch 14/50\n",
            "40/40 - 79s - loss: 0.5803 - accuracy: 0.8108 - val_loss: 0.7527 - val_accuracy: 0.7656\n",
            "Epoch 15/50\n",
            "40/40 - 81s - loss: 0.5439 - accuracy: 0.8254 - val_loss: 0.8503 - val_accuracy: 0.7422\n",
            "Epoch 16/50\n",
            "40/40 - 81s - loss: 0.5141 - accuracy: 0.8357 - val_loss: 0.7073 - val_accuracy: 0.7992\n",
            "Epoch 17/50\n",
            "40/40 - 80s - loss: 0.4647 - accuracy: 0.8500 - val_loss: 0.7190 - val_accuracy: 0.7844\n",
            "Epoch 18/50\n",
            "40/40 - 80s - loss: 0.4478 - accuracy: 0.8564 - val_loss: 0.7768 - val_accuracy: 0.7805\n",
            "Epoch 19/50\n",
            "40/40 - 79s - loss: 0.4303 - accuracy: 0.8623 - val_loss: 0.7130 - val_accuracy: 0.7945\n",
            "Epoch 20/50\n",
            "40/40 - 82s - loss: 0.4071 - accuracy: 0.8675 - val_loss: 0.6502 - val_accuracy: 0.8117\n",
            "Epoch 21/50\n",
            "40/40 - 78s - loss: 0.4001 - accuracy: 0.8725 - val_loss: 0.7063 - val_accuracy: 0.7867\n",
            "Epoch 22/50\n",
            "40/40 - 80s - loss: 0.4014 - accuracy: 0.8744 - val_loss: 0.7076 - val_accuracy: 0.7945\n",
            "Epoch 23/50\n",
            "40/40 - 82s - loss: 0.3704 - accuracy: 0.8835 - val_loss: 0.6399 - val_accuracy: 0.8148\n",
            "Epoch 24/50\n",
            "40/40 - 82s - loss: 0.3729 - accuracy: 0.8774 - val_loss: 0.6046 - val_accuracy: 0.8344\n",
            "Epoch 25/50\n",
            "40/40 - 78s - loss: 0.3548 - accuracy: 0.8871 - val_loss: 0.6462 - val_accuracy: 0.8172\n",
            "Epoch 26/50\n",
            "40/40 - 79s - loss: 0.3662 - accuracy: 0.8852 - val_loss: 0.6414 - val_accuracy: 0.8148\n",
            "Epoch 27/50\n",
            "40/40 - 82s - loss: 0.3490 - accuracy: 0.8898 - val_loss: 0.7052 - val_accuracy: 0.8016\n",
            "Epoch 28/50\n",
            "40/40 - 80s - loss: 0.3286 - accuracy: 0.8961 - val_loss: 0.5813 - val_accuracy: 0.8383\n",
            "Epoch 29/50\n",
            "40/40 - 80s - loss: 0.3244 - accuracy: 0.8957 - val_loss: 0.5998 - val_accuracy: 0.8117\n",
            "Epoch 30/50\n",
            "40/40 - 79s - loss: 0.3023 - accuracy: 0.9038 - val_loss: 0.6640 - val_accuracy: 0.8234\n",
            "Epoch 31/50\n",
            "40/40 - 80s - loss: 0.3048 - accuracy: 0.9044 - val_loss: 0.6322 - val_accuracy: 0.8328\n",
            "Epoch 32/50\n",
            "40/40 - 80s - loss: 0.2936 - accuracy: 0.9077 - val_loss: 0.6414 - val_accuracy: 0.8273\n",
            "Epoch 33/50\n",
            "40/40 - 78s - loss: 0.2738 - accuracy: 0.9116 - val_loss: 0.5895 - val_accuracy: 0.8289\n",
            "Epoch 34/50\n",
            "40/40 - 78s - loss: 0.2722 - accuracy: 0.9155 - val_loss: 0.5797 - val_accuracy: 0.8367\n",
            "Epoch 35/50\n",
            "40/40 - 78s - loss: 0.2710 - accuracy: 0.9111 - val_loss: 0.5665 - val_accuracy: 0.8422\n",
            "Epoch 36/50\n",
            "40/40 - 78s - loss: 0.2547 - accuracy: 0.9176 - val_loss: 0.5728 - val_accuracy: 0.8492\n",
            "Epoch 37/50\n",
            "40/40 - 78s - loss: 0.2571 - accuracy: 0.9206 - val_loss: 0.5410 - val_accuracy: 0.8578\n",
            "Epoch 38/50\n",
            "40/40 - 78s - loss: 0.2686 - accuracy: 0.9168 - val_loss: 0.5437 - val_accuracy: 0.8492\n",
            "Epoch 39/50\n",
            "40/40 - 78s - loss: 0.2487 - accuracy: 0.9202 - val_loss: 0.6144 - val_accuracy: 0.8313\n",
            "Epoch 40/50\n",
            "40/40 - 79s - loss: 0.2469 - accuracy: 0.9227 - val_loss: 0.5247 - val_accuracy: 0.8617\n",
            "Epoch 41/50\n",
            "40/40 - 78s - loss: 0.2414 - accuracy: 0.9224 - val_loss: 0.5855 - val_accuracy: 0.8383\n",
            "Epoch 42/50\n",
            "40/40 - 78s - loss: 0.2350 - accuracy: 0.9254 - val_loss: 0.5616 - val_accuracy: 0.8273\n",
            "Epoch 43/50\n",
            "40/40 - 78s - loss: 0.2353 - accuracy: 0.9267 - val_loss: 0.5446 - val_accuracy: 0.8539\n",
            "Epoch 44/50\n",
            "40/40 - 78s - loss: 0.2304 - accuracy: 0.9287 - val_loss: 0.5967 - val_accuracy: 0.8461\n",
            "Epoch 45/50\n",
            "40/40 - 79s - loss: 0.2069 - accuracy: 0.9340 - val_loss: 0.5712 - val_accuracy: 0.8562\n",
            "Epoch 46/50\n",
            "40/40 - 84s - loss: 0.1989 - accuracy: 0.9382 - val_loss: 0.5822 - val_accuracy: 0.8438\n",
            "Epoch 47/50\n",
            "40/40 - 82s - loss: 0.1981 - accuracy: 0.9375 - val_loss: 0.5633 - val_accuracy: 0.8477\n",
            "Epoch 48/50\n",
            "40/40 - 80s - loss: 0.1950 - accuracy: 0.9388 - val_loss: 0.4794 - val_accuracy: 0.8789\n",
            "Epoch 49/50\n",
            "40/40 - 79s - loss: 0.1925 - accuracy: 0.9369 - val_loss: 0.5361 - val_accuracy: 0.8625\n",
            "Epoch 50/50\n",
            "40/40 - 79s - loss: 0.2025 - accuracy: 0.9359 - val_loss: 0.5405 - val_accuracy: 0.8508\n"
          ],
          "name": "stdout"
        }
      ]
    },
    {
      "cell_type": "code",
      "metadata": {
        "colab": {
          "base_uri": "https://localhost:8080/",
          "height": 295
        },
        "id": "kIjqtPhj5bIV",
        "outputId": "a80c1e09-6878-4edc-eef4-4fb20c463a36"
      },
      "source": [
        "import matplotlib.pyplot as plt\n",
        "\n",
        "plt.plot(history.history['accuracy'])\n",
        "plt.plot(history.history['val_accuracy'])\n",
        "plt.title('Accuracy')\n",
        "plt.ylabel('accuracy')\n",
        "plt.xlabel('epoch')\n",
        "plt.legend(['train', 'val'], loc='upper left')\n",
        "plt.show()"
      ],
      "execution_count": null,
      "outputs": [
        {
          "output_type": "display_data",
          "data": {
            "image/png": "[encoded data removed]",
            "text/plain": [
              "<Figure size 432x288 with 1 Axes>"
            ]
          },
          "metadata": {
            "tags": [],
            "needs_background": "light"
          }
        }
      ]
    },
    {
      "cell_type": "code",
      "metadata": {
        "colab": {
          "base_uri": "https://localhost:8080/",
          "height": 295
        },
        "id": "4-za0yBI4wS7",
        "outputId": "fc36ed7f-d6de-43d2-908e-61a8baa40395"
      },
      "source": [
        "plt.plot(history.history['loss'])\n",
        "plt.plot(history.history['val_loss'])\n",
        "plt.title('Loss')\n",
        "plt.ylabel('loss')\n",
        "plt.xlabel('epoch')\n",
        "plt.legend(['train', 'val'], loc='upper left')\n",
        "plt.show()"
      ],
      "execution_count": null,
      "outputs": [
        {
          "output_type": "display_data",
          "data": {
            "image/png": "[encoded data removed]",
            "text/plain": [
              "<Figure size 432x288 with 1 Axes>"
            ]
          },
          "metadata": {
            "tags": [],
            "needs_background": "light"
          }
        }
      ]
    },
    {
      "cell_type": "code",
      "metadata": {
        "colab": {
          "base_uri": "https://localhost:8080/"
        },
        "id": "N7AgAUJs47h-",
        "outputId": "08700c1a-a9c7-443b-f492-5de52297ab87"
      },
      "source": [
        "converter = tf.lite.TFLiteConverter.from_keras_model(model)\n",
        "tflite_model = converter.convert()\n",
        "\n",
        "with tf.io.gfile.GFile('model.tflite', 'wb') as f:\n",
        "  f.write(tflite_model)"
      ],
      "execution_count": null,
      "outputs": [
        {
          "output_type": "stream",
          "text": [
            "INFO:tensorflow:Assets written to: /tmp/tmpkz3mzv2y/assets\n"
          ],
          "name": "stdout"
        }
      ]
    },
    {
      "cell_type": "code",
      "metadata": {
        "id": "zwagUX2I566D"
      },
      "source": [
        ""
      ],
      "execution_count": null,
      "outputs": []
    }
  ]
}